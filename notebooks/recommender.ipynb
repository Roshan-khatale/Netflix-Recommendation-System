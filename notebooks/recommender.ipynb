{
  "cells": [
    {
      "cell_type": "code",
      "execution_count": null,
      "metadata": {},
      "outputs": [],
      "source": [
        "import pandas as pd\n",
        "from sklearn.feature_extraction.text import CountVectorizer\n",
        "from sklearn.metrics.pairwise import cosine_similarity\n\n",
        "df = pd.read_csv('../data/movies.csv')\n",
        "cv = CountVectorizer()\n",
        "mat = cv.fit_transform(df['genres'])\n",
        "sim = cosine_similarity(mat)\n\n",
        "def recommend(title):\n",
        "    idx = df[df['title'] == title].index[0]\n",
        "    sim_scores = list(enumerate(sim[idx]))\n",
        "    sim_scores = sorted(sim_scores, key=lambda x: x[1], reverse=True)[1:6]\n",
        "    return df['title'].iloc[[i[0] for i in sim_scores]]\n\n",
        "print(recommend('Toy Story (1995)'))"
      ]
    }
  ],
  "metadata": {},
  "nbformat": 4,
  "nbformat_minor": 5
}